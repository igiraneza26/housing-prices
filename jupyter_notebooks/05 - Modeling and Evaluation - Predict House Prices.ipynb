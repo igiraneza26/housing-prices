{
  "cells": [
    {
      "cell_type": "markdown",
      "metadata": {
        "id": "0aStgWSO0E0E"
      },
      "source": [
        "# Classification"
      ]
    },
    {
      "cell_type": "markdown",
      "metadata": {
        "id": "1eLEkw5O0ECa"
      },
      "source": [
        "## Objectives\n",
        "\n",
        "*   Fit and evaluate a classification model to:\n",
        "    * Accurately predict house sale prices\n",
        "    * Meet or exceed an R² score of 0.75 on both training and test sets\n",
        "    * Be used to predict prices for 4 inherited houses\n",
        "    * Be deployed in an interactive dashboard for real-time predictions\n",
        "\n",
        "## Inputs\n",
        "\n",
        "* outputs/datasets/collection/house_prices_record.csv\n",
        "* outputs/datasets/collection/inherited_houses.csv: used after model training for prediction only; not part of the training/testing\n",
        "\n",
        "## Outputs\n",
        "\n",
        "| Output                                  | Description                                              |\n",
        "| --------------------------------------- | -------------------------------------------------------- |\n",
        "| Trained ML model(s)                     | e.g., `LinearRegression`, `RandomForestRegressor`        |\n",
        "| Model performance metrics               | R², MAE, RMSE for both train and test sets               |\n",
        "| Predicted prices (for `X_test`)         | Needed for evaluating generalization                     |\n",
        "| Predicted prices (for inherited houses) | Final client deliverable                                 |\n"
      ]
    },
    {
      "cell_type": "markdown",
      "metadata": {
        "id": "9uWZXH9LwoQg"
      },
      "source": [
        "---"
      ]
    },
    {
      "cell_type": "markdown",
      "metadata": {},
      "source": [
        "# Change working directory"
      ]
    },
    {
      "cell_type": "markdown",
      "metadata": {},
      "source": [
        "We need to change the working directory from its current folder to its parent folder\n",
        "* We access the current directory with os.getcwd()"
      ]
    },
    {
      "cell_type": "code",
      "execution_count": 1,
      "metadata": {},
      "outputs": [
        {
          "data": {
            "text/plain": [
              "'/workspaces/housing-prices/jupyter_notebooks'"
            ]
          },
          "execution_count": 1,
          "metadata": {},
          "output_type": "execute_result"
        }
      ],
      "source": [
        "import os\n",
        "current_dir = os.getcwd()\n",
        "current_dir"
      ]
    },
    {
      "cell_type": "markdown",
      "metadata": {},
      "source": [
        "We want to make the parent of the current directory the new current directory.\n",
        "* os.path.dirname() gets the parent directory\n",
        "* os.chir() defines the new current directory"
      ]
    },
    {
      "cell_type": "code",
      "execution_count": 2,
      "metadata": {},
      "outputs": [
        {
          "name": "stdout",
          "output_type": "stream",
          "text": [
            "You set a new current directory\n"
          ]
        }
      ],
      "source": [
        "os.chdir(os.path.dirname(current_dir))\n",
        "print(\"You set a new current directory\")"
      ]
    },
    {
      "cell_type": "markdown",
      "metadata": {},
      "source": [
        "Confirm the new current directory"
      ]
    },
    {
      "cell_type": "code",
      "execution_count": 3,
      "metadata": {},
      "outputs": [
        {
          "data": {
            "text/plain": [
              "'/workspaces/housing-prices'"
            ]
          },
          "execution_count": 3,
          "metadata": {},
          "output_type": "execute_result"
        }
      ],
      "source": [
        "current_dir = os.getcwd()\n",
        "current_dir"
      ]
    },
    {
      "cell_type": "markdown",
      "metadata": {
        "id": "OSpFreVRiuM3"
      },
      "source": [
        "---"
      ]
    },
    {
      "cell_type": "markdown",
      "metadata": {
        "id": "-mavJ8DibrcQ"
      },
      "source": [
        "# Load Data"
      ]
    },
    {
      "cell_type": "code",
      "execution_count": 5,
      "metadata": {
        "id": "Xk7DU_ekbtX8"
      },
      "outputs": [],
      "source": [
        "import pandas as pd\n",
        "\n",
        "# Load training set\n",
        "train_set_path = \"outputs/datasets/cleaned/train_set.csv\"\n",
        "TrainSet = pd.read_csv(train_set_path)\n",
        "\n",
        "# Load test set\n",
        "test_set_path = \"outputs/datasets/cleaned/test_set.csv\"\n",
        "TestSet = pd.read_csv(test_set_path)\n"
      ]
    },
    {
      "cell_type": "code",
      "execution_count": 6,
      "metadata": {},
      "outputs": [],
      "source": [
        "# Separate features and target for training\n",
        "X_train = TrainSet.drop(columns=['SalePrice'])\n",
        "y_train = TrainSet['SalePrice']\n",
        "\n",
        "# Separate features and target for testing\n",
        "X_test = TestSet.drop(columns=['SalePrice'])\n",
        "y_test = TestSet['SalePrice']"
      ]
    },
    {
      "cell_type": "markdown",
      "metadata": {
        "id": "Ofil7xTpm6l9"
      },
      "source": [
        "---"
      ]
    },
    {
      "cell_type": "markdown",
      "metadata": {
        "id": "krjAk78Tbyhv"
      },
      "source": [
        "# Train First Model (Linear Regression)\n",
        "#Install scikit-learn (if needed)\n",
        "pip install scikit-learn"
      ]
    },
    {
      "cell_type": "markdown",
      "metadata": {},
      "source": [
        "Encode Remaining Categorical Values"
      ]
    },
    {
      "cell_type": "code",
      "execution_count": 11,
      "metadata": {},
      "outputs": [
        {
          "name": "stderr",
          "output_type": "stream",
          "text": [
            "/home/cistudent/.local/lib/python3.12/site-packages/feature_engine/encoding/base_encoder.py:223: FutureWarning: is_categorical_dtype is deprecated and will be removed in a future version. Use isinstance(dtype, CategoricalDtype) instead\n",
            "  if pd.api.types.is_categorical_dtype(X[feature]):\n",
            "/home/cistudent/.local/lib/python3.12/site-packages/feature_engine/encoding/base_encoder.py:223: FutureWarning: is_categorical_dtype is deprecated and will be removed in a future version. Use isinstance(dtype, CategoricalDtype) instead\n",
            "  if pd.api.types.is_categorical_dtype(X[feature]):\n",
            "/home/cistudent/.local/lib/python3.12/site-packages/feature_engine/encoding/base_encoder.py:223: FutureWarning: is_categorical_dtype is deprecated and will be removed in a future version. Use isinstance(dtype, CategoricalDtype) instead\n",
            "  if pd.api.types.is_categorical_dtype(X[feature]):\n",
            "/home/cistudent/.local/lib/python3.12/site-packages/feature_engine/encoding/base_encoder.py:223: FutureWarning: is_categorical_dtype is deprecated and will be removed in a future version. Use isinstance(dtype, CategoricalDtype) instead\n",
            "  if pd.api.types.is_categorical_dtype(X[feature]):\n",
            "/home/cistudent/.local/lib/python3.12/site-packages/feature_engine/encoding/base_encoder.py:223: FutureWarning: is_categorical_dtype is deprecated and will be removed in a future version. Use isinstance(dtype, CategoricalDtype) instead\n",
            "  if pd.api.types.is_categorical_dtype(X[feature]):\n",
            "/home/cistudent/.local/lib/python3.12/site-packages/feature_engine/encoding/base_encoder.py:223: FutureWarning: is_categorical_dtype is deprecated and will be removed in a future version. Use isinstance(dtype, CategoricalDtype) instead\n",
            "  if pd.api.types.is_categorical_dtype(X[feature]):\n",
            "/home/cistudent/.local/lib/python3.12/site-packages/feature_engine/encoding/base_encoder.py:223: FutureWarning: is_categorical_dtype is deprecated and will be removed in a future version. Use isinstance(dtype, CategoricalDtype) instead\n",
            "  if pd.api.types.is_categorical_dtype(X[feature]):\n",
            "/home/cistudent/.local/lib/python3.12/site-packages/feature_engine/encoding/base_encoder.py:223: FutureWarning: is_categorical_dtype is deprecated and will be removed in a future version. Use isinstance(dtype, CategoricalDtype) instead\n",
            "  if pd.api.types.is_categorical_dtype(X[feature]):\n"
          ]
        }
      ],
      "source": [
        "X_train.select_dtypes(include='object').columns\n",
        "from feature_engine.encoding import OrdinalEncoder\n",
        "\n",
        "# List of remaining categorical variables\n",
        "categorical_cols = ['BsmtExposure', 'BsmtFinType1', 'GarageFinish', 'KitchenQual']\n",
        "\n",
        "# Fill missing values for categorical columns\n",
        "X_train['BsmtExposure'] = X_train['BsmtExposure'].fillna('None')\n",
        "X_train['BsmtFinType1'] = X_train['BsmtFinType1'].fillna('None')\n",
        "X_train['GarageFinish'] = X_train['GarageFinish'].fillna('None')\n",
        "X_train['KitchenQual'] = X_train['KitchenQual'].fillna('None')\n",
        "\n",
        "X_test['BsmtExposure'] = X_test['BsmtExposure'].fillna('None')\n",
        "X_test['BsmtFinType1'] = X_test['BsmtFinType1'].fillna('None')\n",
        "X_test['GarageFinish'] = X_test['GarageFinish'].fillna('None')\n",
        "X_test['KitchenQual'] = X_test['KitchenQual'].fillna('None')\n",
        "\n",
        "# Create and fit the encoder\n",
        "encoder = OrdinalEncoder(encoding_method='arbitrary', variables=categorical_cols)\n",
        "encoder.fit(X_train)\n",
        "\n",
        "# Transform both train and test\n",
        "X_train_encoded = encoder.transform(X_train)\n",
        "X_test_encoded = encoder.transform(X_test)"
      ]
    },
    {
      "cell_type": "markdown",
      "metadata": {},
      "source": [
        "Train and Evaluate"
      ]
    },
    {
      "cell_type": "code",
      "execution_count": 12,
      "metadata": {
        "id": "C6keis6ao8LA"
      },
      "outputs": [
        {
          "name": "stdout",
          "output_type": "stream",
          "text": [
            "Train Set:\n",
            "R²: 0.795\n",
            "MAE: 20,899\n",
            "RMSE: 34937\n",
            "------------------------------\n",
            "Test Set:\n",
            "R²: 0.827\n",
            "MAE: 22,541\n",
            "RMSE: 36396\n",
            "------------------------------\n"
          ]
        }
      ],
      "source": [
        "from sklearn.linear_model import LinearRegression\n",
        "from sklearn.metrics import r2_score, mean_absolute_error, mean_squared_error\n",
        "import numpy as np\n",
        "\n",
        "# Train model\n",
        "lr_model = LinearRegression()\n",
        "lr_model.fit(X_train_encoded, y_train)\n",
        "\n",
        "# Predict\n",
        "y_pred_train = lr_model.predict(X_train_encoded)\n",
        "y_pred_test = lr_model.predict(X_test_encoded)\n",
        "\n",
        "# Evaluation\n",
        "def evaluate_model(true, pred, name):\n",
        "    print(f\"{name} Set:\")\n",
        "    print(f\"R²: {r2_score(true, pred):.3f}\")\n",
        "    print(f\"MAE: {mean_absolute_error(true, pred):,.0f}\")\n",
        "    print(f\"RMSE: {np.sqrt(mean_squared_error(true, pred)):.0f}\")\n",
        "    print(\"-\" * 30)\n",
        "\n",
        "evaluate_model(y_train, y_pred_train, \"Train\")\n",
        "evaluate_model(y_test, y_pred_test, \"Test\")\n"
      ]
    },
    {
      "cell_type": "code",
      "execution_count": 26,
      "metadata": {},
      "outputs": [],
      "source": [
        "import os\n",
        "import json\n",
        "\n",
        "# Compute metrics for saving\n",
        "r2_train = r2_score(y_train, y_pred_train)\n",
        "mae_train = mean_absolute_error(y_train, y_pred_train)\n",
        "rmse_train = np.sqrt(mean_squared_error(y_train, y_pred_train))\n",
        "\n",
        "r2_test = r2_score(y_test, y_pred_test)\n",
        "mae_test = mean_absolute_error(y_test, y_pred_test)\n",
        "rmse_test = np.sqrt(mean_squared_error(y_test, y_pred_test))\n",
        "\n",
        "# Prepare metrics dictionary\n",
        "metrics = {\n",
        "    \"r2_train\": round(r2_train, 3),\n",
        "    \"mae_train\": int(mae_train),\n",
        "    \"rmse_train\": int(rmse_train),\n",
        "    \"r2_test\": round(r2_test, 3),\n",
        "    \"mae_test\": int(mae_test),\n",
        "    \"rmse_test\": int(rmse_test)\n",
        "}\n",
        "\n",
        "# Save to JSON\n",
        "os.makedirs(\"outputs/evaluation\", exist_ok=True)\n",
        "with open(\"outputs/evaluation/metrics.json\", \"w\") as f:\n",
        "    json.dump(metrics, f, indent=4)"
      ]
    },
    {
      "cell_type": "markdown",
      "metadata": {
        "id": "H_7BXNYMULrf"
      },
      "source": [
        "## Predict Inherited Houses Price"
      ]
    },
    {
      "cell_type": "markdown",
      "metadata": {},
      "source": [
        "Load the `inherited_house.csv`"
      ]
    },
    {
      "cell_type": "code",
      "execution_count": 13,
      "metadata": {
        "id": "PYR4hz6-Ldvo"
      },
      "outputs": [
        {
          "data": {
            "text/html": [
              "<div>\n",
              "<style scoped>\n",
              "    .dataframe tbody tr th:only-of-type {\n",
              "        vertical-align: middle;\n",
              "    }\n",
              "\n",
              "    .dataframe tbody tr th {\n",
              "        vertical-align: top;\n",
              "    }\n",
              "\n",
              "    .dataframe thead th {\n",
              "        text-align: right;\n",
              "    }\n",
              "</style>\n",
              "<table border=\"1\" class=\"dataframe\">\n",
              "  <thead>\n",
              "    <tr style=\"text-align: right;\">\n",
              "      <th></th>\n",
              "      <th>1stFlrSF</th>\n",
              "      <th>2ndFlrSF</th>\n",
              "      <th>BedroomAbvGr</th>\n",
              "      <th>BsmtExposure</th>\n",
              "      <th>BsmtFinSF1</th>\n",
              "      <th>BsmtFinType1</th>\n",
              "      <th>BsmtUnfSF</th>\n",
              "      <th>EnclosedPorch</th>\n",
              "      <th>GarageArea</th>\n",
              "      <th>GarageFinish</th>\n",
              "      <th>...</th>\n",
              "      <th>LotArea</th>\n",
              "      <th>LotFrontage</th>\n",
              "      <th>MasVnrArea</th>\n",
              "      <th>OpenPorchSF</th>\n",
              "      <th>OverallCond</th>\n",
              "      <th>OverallQual</th>\n",
              "      <th>TotalBsmtSF</th>\n",
              "      <th>WoodDeckSF</th>\n",
              "      <th>YearBuilt</th>\n",
              "      <th>YearRemodAdd</th>\n",
              "    </tr>\n",
              "  </thead>\n",
              "  <tbody>\n",
              "    <tr>\n",
              "      <th>0</th>\n",
              "      <td>896</td>\n",
              "      <td>0</td>\n",
              "      <td>2</td>\n",
              "      <td>No</td>\n",
              "      <td>468.0</td>\n",
              "      <td>Rec</td>\n",
              "      <td>270.0</td>\n",
              "      <td>0</td>\n",
              "      <td>730.0</td>\n",
              "      <td>Unf</td>\n",
              "      <td>...</td>\n",
              "      <td>11622</td>\n",
              "      <td>80.0</td>\n",
              "      <td>0.0</td>\n",
              "      <td>0</td>\n",
              "      <td>6</td>\n",
              "      <td>5</td>\n",
              "      <td>882.0</td>\n",
              "      <td>140</td>\n",
              "      <td>1961</td>\n",
              "      <td>1961</td>\n",
              "    </tr>\n",
              "    <tr>\n",
              "      <th>1</th>\n",
              "      <td>1329</td>\n",
              "      <td>0</td>\n",
              "      <td>3</td>\n",
              "      <td>No</td>\n",
              "      <td>923.0</td>\n",
              "      <td>ALQ</td>\n",
              "      <td>406.0</td>\n",
              "      <td>0</td>\n",
              "      <td>312.0</td>\n",
              "      <td>Unf</td>\n",
              "      <td>...</td>\n",
              "      <td>14267</td>\n",
              "      <td>81.0</td>\n",
              "      <td>108.0</td>\n",
              "      <td>36</td>\n",
              "      <td>6</td>\n",
              "      <td>6</td>\n",
              "      <td>1329.0</td>\n",
              "      <td>393</td>\n",
              "      <td>1958</td>\n",
              "      <td>1958</td>\n",
              "    </tr>\n",
              "    <tr>\n",
              "      <th>2</th>\n",
              "      <td>928</td>\n",
              "      <td>701</td>\n",
              "      <td>3</td>\n",
              "      <td>No</td>\n",
              "      <td>791.0</td>\n",
              "      <td>GLQ</td>\n",
              "      <td>137.0</td>\n",
              "      <td>0</td>\n",
              "      <td>482.0</td>\n",
              "      <td>Fin</td>\n",
              "      <td>...</td>\n",
              "      <td>13830</td>\n",
              "      <td>74.0</td>\n",
              "      <td>0.0</td>\n",
              "      <td>34</td>\n",
              "      <td>5</td>\n",
              "      <td>5</td>\n",
              "      <td>928.0</td>\n",
              "      <td>212</td>\n",
              "      <td>1997</td>\n",
              "      <td>1998</td>\n",
              "    </tr>\n",
              "    <tr>\n",
              "      <th>3</th>\n",
              "      <td>926</td>\n",
              "      <td>678</td>\n",
              "      <td>3</td>\n",
              "      <td>No</td>\n",
              "      <td>602.0</td>\n",
              "      <td>GLQ</td>\n",
              "      <td>324.0</td>\n",
              "      <td>0</td>\n",
              "      <td>470.0</td>\n",
              "      <td>Fin</td>\n",
              "      <td>...</td>\n",
              "      <td>9978</td>\n",
              "      <td>78.0</td>\n",
              "      <td>20.0</td>\n",
              "      <td>36</td>\n",
              "      <td>6</td>\n",
              "      <td>6</td>\n",
              "      <td>926.0</td>\n",
              "      <td>360</td>\n",
              "      <td>1998</td>\n",
              "      <td>1998</td>\n",
              "    </tr>\n",
              "  </tbody>\n",
              "</table>\n",
              "<p>4 rows × 23 columns</p>\n",
              "</div>"
            ],
            "text/plain": [
              "   1stFlrSF  2ndFlrSF  BedroomAbvGr BsmtExposure  BsmtFinSF1 BsmtFinType1  \\\n",
              "0       896         0             2           No       468.0          Rec   \n",
              "1      1329         0             3           No       923.0          ALQ   \n",
              "2       928       701             3           No       791.0          GLQ   \n",
              "3       926       678             3           No       602.0          GLQ   \n",
              "\n",
              "   BsmtUnfSF  EnclosedPorch  GarageArea GarageFinish  ...  LotArea  \\\n",
              "0      270.0              0       730.0          Unf  ...    11622   \n",
              "1      406.0              0       312.0          Unf  ...    14267   \n",
              "2      137.0              0       482.0          Fin  ...    13830   \n",
              "3      324.0              0       470.0          Fin  ...     9978   \n",
              "\n",
              "   LotFrontage MasVnrArea  OpenPorchSF  OverallCond  OverallQual  TotalBsmtSF  \\\n",
              "0         80.0        0.0            0            6            5        882.0   \n",
              "1         81.0      108.0           36            6            6       1329.0   \n",
              "2         74.0        0.0           34            5            5        928.0   \n",
              "3         78.0       20.0           36            6            6        926.0   \n",
              "\n",
              "   WoodDeckSF  YearBuilt  YearRemodAdd  \n",
              "0         140       1961          1961  \n",
              "1         393       1958          1958  \n",
              "2         212       1997          1998  \n",
              "3         360       1998          1998  \n",
              "\n",
              "[4 rows x 23 columns]"
            ]
          },
          "execution_count": 13,
          "metadata": {},
          "output_type": "execute_result"
        }
      ],
      "source": [
        "inherited_path = \"outputs/datasets/collection/inherited_houses.csv\"\n",
        "df_inherited = pd.read_csv(inherited_path)\n",
        "df_inherited.head()"
      ]
    },
    {
      "cell_type": "markdown",
      "metadata": {},
      "source": [
        "Ensure Inherited Houses Data Mecthes X-train"
      ]
    },
    {
      "cell_type": "code",
      "execution_count": 18,
      "metadata": {},
      "outputs": [
        {
          "name": "stderr",
          "output_type": "stream",
          "text": [
            "/home/cistudent/.local/lib/python3.12/site-packages/feature_engine/encoding/base_encoder.py:223: FutureWarning: is_categorical_dtype is deprecated and will be removed in a future version. Use isinstance(dtype, CategoricalDtype) instead\n",
            "  if pd.api.types.is_categorical_dtype(X[feature]):\n",
            "/home/cistudent/.local/lib/python3.12/site-packages/feature_engine/encoding/base_encoder.py:223: FutureWarning: is_categorical_dtype is deprecated and will be removed in a future version. Use isinstance(dtype, CategoricalDtype) instead\n",
            "  if pd.api.types.is_categorical_dtype(X[feature]):\n",
            "/home/cistudent/.local/lib/python3.12/site-packages/feature_engine/encoding/base_encoder.py:223: FutureWarning: is_categorical_dtype is deprecated and will be removed in a future version. Use isinstance(dtype, CategoricalDtype) instead\n",
            "  if pd.api.types.is_categorical_dtype(X[feature]):\n",
            "/home/cistudent/.local/lib/python3.12/site-packages/feature_engine/encoding/base_encoder.py:223: FutureWarning: is_categorical_dtype is deprecated and will be removed in a future version. Use isinstance(dtype, CategoricalDtype) instead\n",
            "  if pd.api.types.is_categorical_dtype(X[feature]):\n"
          ]
        }
      ],
      "source": [
        "from feature_engine.encoding import OrdinalEncoder\n",
        "\n",
        "# Define categorical columns used in model\n",
        "categorical_cols = ['BsmtExposure', 'BsmtFinType1', 'GarageFinish', 'KitchenQual']\n",
        "\n",
        "# Combine X_train categorical data only\n",
        "X_train_cat = X_train[categorical_cols]\n",
        "\n",
        "# Refit encoder on categorical columns only\n",
        "encoder_cat = OrdinalEncoder(encoding_method='arbitrary', variables=categorical_cols)\n",
        "encoder_cat.fit(X_train_cat)\n",
        "\n",
        "# Apply to inherited data\n",
        "df_inherited_cat = df_inherited[categorical_cols].fillna('None')\n",
        "df_inherited_encoded_cat = encoder_cat.transform(df_inherited_cat)"
      ]
    },
    {
      "cell_type": "markdown",
      "metadata": {},
      "source": [
        "Combine with Numeric Features"
      ]
    },
    {
      "cell_type": "code",
      "execution_count": 19,
      "metadata": {},
      "outputs": [],
      "source": [
        "# Get the numeric columns used in X_train\n",
        "numerical_cols = X_train.drop(columns=categorical_cols).columns\n",
        "df_inherited_num = df_inherited[numerical_cols]\n",
        "\n",
        "# Combine final inputs\n",
        "X_inherited_final = pd.concat([\n",
        "    df_inherited_num.reset_index(drop=True),\n",
        "    df_inherited_encoded_cat.reset_index(drop=True)\n",
        "], axis=1)"
      ]
    },
    {
      "cell_type": "markdown",
      "metadata": {},
      "source": [
        "Predict Prices"
      ]
    },
    {
      "cell_type": "code",
      "execution_count": 27,
      "metadata": {},
      "outputs": [
        {
          "name": "stdout",
          "output_type": "stream",
          "text": [
            "   Predicted_SalePrice\n",
            "0             126767.0\n",
            "1             167978.0\n",
            "2             170321.0\n",
            "3             198186.0\n",
            "Total Predicted Value of Inherited Houses: $663,252\n"
          ]
        }
      ],
      "source": [
        "correct_order = X_train_encoded.columns\n",
        "X_inherited_final = X_inherited_final[correct_order]\n",
        "predictions = lr_model.predict(X_inherited_final)\n",
        "df_inherited['Predicted_SalePrice'] = predictions.round(0)\n",
        "\n",
        "# Show results\n",
        "print(df_inherited[['Predicted_SalePrice']])\n",
        "\n",
        "# Total value\n",
        "total_value = df_inherited['Predicted_SalePrice'].sum()\n",
        "print(f\"Total Predicted Value of Inherited Houses: ${total_value:,.0f}\")\n",
        "# Save predictions to CSV for the dashboard\n",
        "import os\n",
        "os.makedirs(\"outputs/predictions\", exist_ok=True)\n",
        "df_inherited.to_csv(\"outputs/predictions/inherited_house_predictions.csv\", index=False)\n"
      ]
    },
    {
      "cell_type": "markdown",
      "metadata": {
        "id": "eUcOp83jy0QG"
      },
      "source": [
        "## Predict Prices for User House Inputs"
      ]
    },
    {
      "cell_type": "markdown",
      "metadata": {},
      "source": [
        "Build Predictive Function"
      ]
    },
    {
      "cell_type": "code",
      "execution_count": 22,
      "metadata": {
        "id": "0vqzNI2zF1sZ"
      },
      "outputs": [],
      "source": [
        "def predict_house_price(user_input: dict, model, encoder, feature_order):\n",
        "    \"\"\"\n",
        "    Predict sale price for a new house based on user input.\n",
        "\n",
        "    Parameters:\n",
        "        user_input (dict): Raw input values from the user (must include all required features)\n",
        "        model (sklearn estimator): Trained regression model\n",
        "        encoder (OrdinalEncoder): Fitted encoder for categorical features\n",
        "        feature_order (list): List of column names in the correct model input order\n",
        "\n",
        "    Returns:\n",
        "        float: Predicted sale price\n",
        "    \"\"\"\n",
        "    import pandas as pd\n",
        "\n",
        "    # Convert input to DataFrame\n",
        "    input_df = pd.DataFrame([user_input])\n",
        "\n",
        "    # Fill missing categorical values with 'None' if needed\n",
        "    for col in ['BsmtExposure', 'BsmtFinType1', 'GarageFinish', 'KitchenQual']:\n",
        "        if col in input_df.columns:\n",
        "            input_df[col] = input_df[col].fillna('None')\n",
        "\n",
        "    # Encode categorical columns\n",
        "    input_cat = input_df[['BsmtExposure', 'BsmtFinType1', 'GarageFinish', 'KitchenQual']]\n",
        "    input_cat_encoded = encoder.transform(input_cat)\n",
        "\n",
        "    # Extract numeric columns (from model training)\n",
        "    numeric_cols = [col for col in feature_order if col not in input_cat.columns]\n",
        "    input_num = input_df[numeric_cols]\n",
        "\n",
        "    # Combine numeric + encoded categorical\n",
        "    input_final = pd.concat([input_num.reset_index(drop=True), input_cat_encoded.reset_index(drop=True)], axis=1)\n",
        "\n",
        "    # Reorder to match training feature order\n",
        "    input_final = input_final[feature_order]\n",
        "\n",
        "    # Predict\n",
        "    predicted_price = model.predict(input_final)[0]\n",
        "\n",
        "    return round(predicted_price, 0)"
      ]
    },
    {
      "cell_type": "markdown",
      "metadata": {},
      "source": [
        "Predictive-House-Function-Test"
      ]
    },
    {
      "cell_type": "code",
      "execution_count": 24,
      "metadata": {},
      "outputs": [
        {
          "name": "stdout",
          "output_type": "stream",
          "text": [
            "Predicted Sale Price: $191,542\n"
          ]
        },
        {
          "name": "stderr",
          "output_type": "stream",
          "text": [
            "/home/cistudent/.local/lib/python3.12/site-packages/feature_engine/encoding/base_encoder.py:223: FutureWarning: is_categorical_dtype is deprecated and will be removed in a future version. Use isinstance(dtype, CategoricalDtype) instead\n",
            "  if pd.api.types.is_categorical_dtype(X[feature]):\n",
            "/home/cistudent/.local/lib/python3.12/site-packages/feature_engine/encoding/base_encoder.py:223: FutureWarning: is_categorical_dtype is deprecated and will be removed in a future version. Use isinstance(dtype, CategoricalDtype) instead\n",
            "  if pd.api.types.is_categorical_dtype(X[feature]):\n",
            "/home/cistudent/.local/lib/python3.12/site-packages/feature_engine/encoding/base_encoder.py:223: FutureWarning: is_categorical_dtype is deprecated and will be removed in a future version. Use isinstance(dtype, CategoricalDtype) instead\n",
            "  if pd.api.types.is_categorical_dtype(X[feature]):\n",
            "/home/cistudent/.local/lib/python3.12/site-packages/feature_engine/encoding/base_encoder.py:223: FutureWarning: is_categorical_dtype is deprecated and will be removed in a future version. Use isinstance(dtype, CategoricalDtype) instead\n",
            "  if pd.api.types.is_categorical_dtype(X[feature]):\n"
          ]
        }
      ],
      "source": [
        "full_feature_list = X_train_encoded.columns.tolist()\n",
        "\n",
        "default_input = {\n",
        "    'GrLivArea': 1500,\n",
        "    'GarageArea': 400,\n",
        "    'TotalBsmtSF': 1000,\n",
        "    '1stFlrSF': 1200,\n",
        "    'LotArea': 8000,\n",
        "    '2ndFlrSF': 300,\n",
        "    'BedroomAbvGr': 3,\n",
        "    'BsmtFinSF1': 600,\n",
        "    'BsmtUnfSF': 400,\n",
        "    'GarageYrBlt': 2005,\n",
        "    'LotFrontage': 60,\n",
        "    'MasVnrArea': 100,\n",
        "    'OpenPorchSF': 40,\n",
        "    'OverallCond': 5,\n",
        "    'OverallQual': 6,\n",
        "    'YearBuilt': 1995,\n",
        "    'YearRemodAdd': 2005,\n",
        "    'BsmtExposure': 'Av',\n",
        "    'BsmtFinType1': 'GLQ',\n",
        "    'GarageFinish': 'Fin',\n",
        "    'KitchenQual': 'Gd'\n",
        "}\n",
        "\n",
        "predicted_price = predict_house_price(\n",
        "    user_input=default_input,\n",
        "    model=lr_model,\n",
        "    encoder=encoder_cat,\n",
        "    feature_order=full_feature_list\n",
        ")\n",
        "\n",
        "print(f\"Predicted Sale Price: ${predicted_price:,.0f}\")\n"
      ]
    },
    {
      "cell_type": "markdown",
      "metadata": {
        "id": "_ufHAplN7tdo"
      },
      "source": [
        "## Model Artifact Preservation for Deployment"
      ]
    },
    {
      "cell_type": "markdown",
      "metadata": {
        "id": "XAbbAO2r248W"
      },
      "source": [
        "To support the prediction interface and ensure full reproducibility of the machine learning pipeline, we have saved the following key assets:\n",
        "\n",
        "1. Trained Model (linear_regression_model.pkl): The fitted Linear Regression model that achieved strong R² performance on both train and test datasets.\n",
        "2. Ordinal Encoder (ordinal_encoder.pkl): The encoder fitted on categorical variables (BsmtExposure, BsmtFinType1, GarageFinish, KitchenQual) used to ensure consistent input formatting for both historical and new data.\n",
        "3. Feature Order (feature_order.json): A list of all features used during model training, saved in their original order. This ensures that any future prediction input aligns exactly with what the model expects.\n",
        "4. User Input Template (default_user_input.json): A complete dictionary of input fields with sample values. This serves as a reusable starting point for the interactive user interface, ensuring users can input values that match the trained pipeline.\n",
        "\n",
        "These saved components allow seamless integration with the upcoming Streamlit dashboard, enabling both predefined and real-time house price predictions."
      ]
    },
    {
      "cell_type": "code",
      "execution_count": 25,
      "metadata": {
        "id": "XCcAlvoG3CRm"
      },
      "outputs": [],
      "source": [
        "import joblib\n",
        "import json\n",
        "import os\n",
        "\n",
        "# Create a models directory if it doesn't exist\n",
        "os.makedirs(\"outputs/models\", exist_ok=True)\n",
        "\n",
        "# 1. Save the model\n",
        "joblib.dump(lr_model, \"outputs/models/linear_regression_model.pkl\")\n",
        "\n",
        "# 2. Save the encoder\n",
        "joblib.dump(encoder_cat, \"outputs/models/ordinal_encoder.pkl\")\n",
        "\n",
        "# 3. Save the feature list\n",
        "feature_list = X_train_encoded.columns.tolist()\n",
        "with open(\"outputs/models/feature_order.json\", \"w\") as f:\n",
        "    json.dump(feature_list, f)\n",
        "\n",
        "# 4. Save the default input template\n",
        "default_input = {\n",
        "    'GrLivArea': 1500,\n",
        "    'GarageArea': 400,\n",
        "    'TotalBsmtSF': 1000,\n",
        "    '1stFlrSF': 1200,\n",
        "    'LotArea': 8000,\n",
        "    '2ndFlrSF': 300,\n",
        "    'BedroomAbvGr': 3,\n",
        "    'BsmtFinSF1': 600,\n",
        "    'BsmtUnfSF': 400,\n",
        "    'GarageYrBlt': 2005,\n",
        "    'LotFrontage': 60,\n",
        "    'MasVnrArea': 100,\n",
        "    'OpenPorchSF': 40,\n",
        "    'OverallCond': 5,\n",
        "    'OverallQual': 6,\n",
        "    'YearBuilt': 1995,\n",
        "    'YearRemodAdd': 2005,\n",
        "    'BsmtExposure': 'Av',\n",
        "    'BsmtFinType1': 'GLQ',\n",
        "    'GarageFinish': 'Fin',\n",
        "    'KitchenQual': 'Gd'\n",
        "}\n",
        "with open(\"outputs/models/default_user_input.json\", \"w\") as f:\n",
        "    json.dump(default_input, f)\n"
      ]
    },
    {
      "cell_type": "markdown",
      "metadata": {},
      "source": [
        "Good job, you should clear outputs, then run git commands to push files to the repo. Next, move on to Predict Tenure notebook"
      ]
    },
    {
      "cell_type": "markdown",
      "metadata": {},
      "source": [
        "---"
      ]
    }
  ],
  "metadata": {
    "accelerator": "GPU",
    "colab": {
      "name": "Modeling and Evaluation - Predict Customer Churn.ipynb",
      "provenance": []
    },
    "kernelspec": {
      "display_name": "Python 3",
      "language": "python",
      "name": "python3"
    },
    "language_info": {
      "codemirror_mode": {
        "name": "ipython",
        "version": 3
      },
      "file_extension": ".py",
      "mimetype": "text/x-python",
      "name": "python",
      "nbconvert_exporter": "python",
      "pygments_lexer": "ipython3",
      "version": "3.12.1"
    },
    "orig_nbformat": 2
  },
  "nbformat": 4,
  "nbformat_minor": 2
}
